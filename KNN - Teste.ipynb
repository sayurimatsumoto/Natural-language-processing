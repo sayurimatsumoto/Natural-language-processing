{
 "cells": [
  {
   "cell_type": "code",
   "execution_count": 1,
   "metadata": {},
   "outputs": [],
   "source": [
    "import matplotlib.pyplot as plt\n",
    "import numpy as np\n",
    "import pandas as pd\n",
    "import pre_processing as pp\n",
    "import analysis as anl\n",
    "\n",
    "category = 'kitchen_&_housewares'\n",
    "vocabulary = []\n",
    "Xx, Y, vocabulary = pp.bow(category, clear = True, stem = False, hand_neg = True, \n",
    "                           pos_t = True, lemm = False, rm_stop = True, rm_not_alpha = True)"
   ]
  },
  {
   "cell_type": "code",
   "execution_count": 2,
   "metadata": {},
   "outputs": [
    {
     "name": "stdout",
     "output_type": "stream",
     "text": [
      "(2000, 7385)\n",
      "(2000, 10)\n"
     ]
    }
   ],
   "source": [
    "#Apenas para teste\n",
    "from sklearn.decomposition import PCA\n",
    "\n",
    "print (Xx.shape)\n",
    "\n",
    "pca = PCA (n_components = 10)\n",
    "\n",
    "X = pca.fit_transform (Xx)\n",
    "\n",
    "print (X.shape)"
   ]
  },
  {
   "cell_type": "code",
   "execution_count": 3,
   "metadata": {},
   "outputs": [],
   "source": [
    "def normalizar(X):\n",
    "    m, n = X.shape\n",
    "    \n",
    "    X_norm = np.zeros( (m,n) )\n",
    "    \n",
    "    mu = np.mean(X, axis=0)\n",
    "    sigma = np.std(X, axis=0, ddof=1)\n",
    "    \n",
    "    for i in range(m):\n",
    "        X_norm[i,:] = (X[i,:]-mu) / sigma\n",
    "        \n",
    "    return X_norm, mu, sigma"
   ]
  },
  {
   "cell_type": "code",
   "execution_count": 4,
   "metadata": {},
   "outputs": [],
   "source": [
    "# semente usada na randomizacao dos dados.\n",
    "randomSeed = 10 \n",
    "\n",
    "# gera os indices aleatorios que irao definir a ordem dos dados\n",
    "idx_perm = np.random.RandomState(randomSeed).permutation(range(len(Y)))\n",
    "\n",
    "# ordena os dados de acordo com os indices gerados aleatoriamente\n",
    "X2, Y2 = X[idx_perm, :], Y[idx_perm]\n",
    "\n",
    "#X2, Y2 = X[idx_perm, :], Y[idx_perm]\n",
    "\n",
    "pTrain = 0.8\n",
    "\n",
    "train_index, test_index = anl.stratified_holdOut(Y, pTrain)\n",
    "\n",
    "Xtrain, Xval = X2[train_index, :], X2[test_index, :]\n",
    "Ytrain, Yval = Y2[train_index], Y2[test_index]"
   ]
  },
  {
   "cell_type": "code",
   "execution_count": 5,
   "metadata": {},
   "outputs": [],
   "source": [
    "# alpha = 0.25\n",
    "# Xtrain, new_vocabulary, selected = pp.select_c2(Xtrain, Ytrain, vocabulary, alpha)\n",
    "# Xtrain, mu, sigma = normalizar(Xtrain) \n",
    "# print(new_vocabulary)\n",
    "# Xval = Xval[:, selected]\n",
    "\n",
    "# print(\"Número de features antes do chi-quadrado: \" + str(len(vocabulary)))\n",
    "# print(\"----------------------------------------\")\n",
    "# print(\"Número de features após chi-quadrado: \" + str(len(new_vocabulary)))\n",
    "# print(new_vocabulary)"
   ]
  },
  {
   "cell_type": "code",
   "execution_count": 6,
   "metadata": {},
   "outputs": [],
   "source": [
    "def distancia(x, X):\n",
    "               \n",
    "    m = X.shape[0] \n",
    "    D = np.zeros(m) \n",
    "\n",
    "    for i in range (m):\n",
    "        D[i] = np.linalg.norm(X[i] - x)\n",
    "    return D"
   ]
  },
  {
   "cell_type": "code",
   "execution_count": 7,
   "metadata": {},
   "outputs": [],
   "source": [
    "def knn(x, X, Y, K):\n",
    "        \n",
    "    y = 0 \n",
    "    \n",
    "    ind_viz = np.ones(K, dtype=int)\n",
    "    \n",
    "    D = distancia(x, X)\n",
    "    \n",
    "    votos = np.zeros(len(set(Y)))\n",
    "\n",
    "    ind_viz = np.argsort(D)[:K]\n",
    "            \n",
    "    for indice in ind_viz:\n",
    "        votos[Y[indice]] += 1 / D[indice]\n",
    "            \n",
    "    y = np.argmax(votos)\n",
    "        \n",
    "    return y"
   ]
  },
  {
   "cell_type": "code",
   "execution_count": 8,
   "metadata": {},
   "outputs": [
    {
     "name": "stdout",
     "output_type": "stream",
     "text": [
      "K = 1\n"
     ]
    },
    {
     "name": "stderr",
     "output_type": "stream",
     "text": [
      "/home/antonio/anaconda3/lib/python3.7/site-packages/ipykernel_launcher.py:14: RuntimeWarning: divide by zero encountered in double_scalars\n",
      "  \n"
     ]
    },
    {
     "name": "stdout",
     "output_type": "stream",
     "text": [
      "\n",
      "\tRevocacao   Precisao   F-medida   Classe\n",
      "\t0.883       0.896      0.889      0\n",
      "\t0.892       0.879      0.885      1\n",
      "\t------------------------------------------------\n",
      "\t0.888       0.887      0.888      Média macro\n",
      "\t0.887       0.887      0.887      Média micro\n",
      "\n",
      "\tAcuracia: 0.887\n",
      "K = 3\n",
      "\n",
      "\tRevocacao   Precisao   F-medida   Classe\n",
      "\t0.873       0.909      0.891      0\n",
      "\t0.908       0.872      0.889      1\n",
      "\t------------------------------------------------\n",
      "\t0.890       0.890      0.890      Média macro\n",
      "\t0.890       0.890      0.890      Média micro\n",
      "\n",
      "\tAcuracia: 0.890\n",
      "K = 5\n",
      "\n",
      "\tRevocacao   Precisao   F-medida   Classe\n",
      "\t0.888       0.910      0.899      0\n",
      "\t0.908       0.885      0.896      1\n",
      "\t------------------------------------------------\n",
      "\t0.898       0.897      0.898      Média macro\n",
      "\t0.897       0.897      0.897      Média micro\n",
      "\n",
      "\tAcuracia: 0.897\n",
      "K = 7\n",
      "\n",
      "\tRevocacao   Precisao   F-medida   Classe\n",
      "\t0.878       0.909      0.893      0\n",
      "\t0.908       0.876      0.892      1\n",
      "\t------------------------------------------------\n",
      "\t0.893       0.893      0.893      Média macro\n",
      "\t0.892       0.892      0.892      Média micro\n",
      "\n",
      "\tAcuracia: 0.892\n",
      "K = 9\n",
      "\n",
      "\tRevocacao   Precisao   F-medida   Classe\n",
      "\t0.873       0.913      0.893      0\n",
      "\t0.913       0.873      0.892      1\n",
      "\t------------------------------------------------\n",
      "\t0.893       0.893      0.893      Média macro\n",
      "\t0.892       0.892      0.892      Média micro\n",
      "\n",
      "\tAcuracia: 0.892\n",
      "K = 11\n",
      "\n",
      "\tRevocacao   Precisao   F-medida   Classe\n",
      "\t0.878       0.918      0.898      0\n",
      "\t0.918       0.877      0.897      1\n",
      "\t------------------------------------------------\n",
      "\t0.898       0.898      0.898      Média macro\n",
      "\t0.897       0.897      0.897      Média micro\n",
      "\n",
      "\tAcuracia: 0.897\n",
      "K = 13\n",
      "\n",
      "\tRevocacao   Precisao   F-medida   Classe\n",
      "\t0.873       0.899      0.886      0\n",
      "\t0.897       0.871      0.884      1\n",
      "\t------------------------------------------------\n",
      "\t0.885       0.885      0.885      Média macro\n",
      "\t0.885       0.885      0.885      Média micro\n",
      "\n",
      "\tAcuracia: 0.885\n"
     ]
    }
   ],
   "source": [
    "def predicao(K, Xtrain, Ytrain, Xval, Yval):\n",
    "    \n",
    "    Ypred = []\n",
    "\n",
    "    for i in range(Xval.shape[0]):\n",
    "        y = knn(Xval[i], Xtrain, Ytrain, K)\n",
    "        Ypred.append(y)\n",
    "        \n",
    "    acuracia = np.sum(Ypred==Yval)/len(Yval)\n",
    "    \n",
    "    return Ypred, acuracia\n",
    "\n",
    "\n",
    "classes = np.unique(Y)\n",
    "\n",
    "melhorK = 1\n",
    "melhorAcc = 0\n",
    "\n",
    "for k in [1, 3, 5, 7, 9, 11, 13]:\n",
    "    print(\"K = \" + str(k))\n",
    "    Ypred, acuracia = predicao(k, Xtrain, Ytrain, Xval, Yval)\n",
    "    auxResults = anl.relatorioDesempenho(Yval, Ypred, classes, imprimeRelatorio=True)\n",
    "    \n",
    "    if (acuracia > melhorAcc):\n",
    "        melhorAcc = acuracia\n",
    "        melhorL = k"
   ]
  },
  {
   "cell_type": "code",
   "execution_count": 9,
   "metadata": {},
   "outputs": [],
   "source": [
    "def curva_aprendizado(X, Y, Xval, Yval, k, num_exec = 5):\n",
    "    # inicializa as listas que guardarao a performance no treinamento e na validacao\n",
    "    perf_train = []\n",
    "    perf_val = []\n",
    "\n",
    "    classes = np.unique(Y)\n",
    "    \n",
    "    for i in range(10, len(Y), int (len(Y)/num_exec)):\n",
    "        Ypred, acuracia = predicao(k, X[:i], Y[:i], X[:i], Y[:i])\n",
    "        perf_train.append(acuracia)\n",
    "\n",
    "        Ypred, acuracia = predicao(k, X[:i], Y[:i], Xval, Yval)\n",
    "        perf_val.append(acuracia)\n",
    "\n",
    "\n",
    "    ##################################################################################\n",
    "       \n",
    "    # Define o tamanho da figura \n",
    "    plt.figure(figsize=(20,12))\n",
    "\n",
    "    # Plota os dados\n",
    "    plt.plot(perf_train, color='blue', linestyle='-', linewidth=1.5, label='Treino') \n",
    "    plt.plot(perf_val, color='red', linestyle='-', linewidth=1.5, label='Validação')\n",
    "\n",
    "    # Define os nomes do eixo x e do eixo y\n",
    "    plt.xlabel(r'# Qtd. de dados de treinamento',fontsize='x-large') \n",
    "    plt.ylabel(r'Acuracia',fontsize='x-large') \n",
    "\n",
    "    # Define o título do gráfico\n",
    "    plt.title(r'Curva de aprendizado', fontsize='x-large')\n",
    "\n",
    "    # Acrescenta um grid no gráfico\n",
    "    plt.grid(axis='both')\n",
    "\n",
    "    # Plota a legenda\n",
    "    plt.legend()\n",
    "    \n",
    "    plt.show()"
   ]
  },
  {
   "cell_type": "code",
   "execution_count": 10,
   "metadata": {},
   "outputs": [
    {
     "name": "stderr",
     "output_type": "stream",
     "text": [
      "/home/antonio/anaconda3/lib/python3.7/site-packages/ipykernel_launcher.py:14: RuntimeWarning: divide by zero encountered in double_scalars\n",
      "  \n"
     ]
    },
    {
     "data": {
      "image/png": "[encoded data removed]",
      "text/plain": [
       "<Figure size 1440x864 with 1 Axes>"
      ]
     },
     "metadata": {
      "needs_background": "light"
     },
     "output_type": "display_data"
    }
   ],
   "source": [
    "passo = 5 #número de execuções da curva\n",
    "curva_aprendizado(Xtrain, Ytrain, Xval, Yval, melhorK, passo)"
   ]
  },
  {
   "cell_type": "code",
   "execution_count": null,
   "metadata": {},
   "outputs": [],
   "source": []
  }
 ],
 "metadata": {
  "kernelspec": {
   "display_name": "Python 3",
   "language": "python",
   "name": "python3"
  },
  "language_info": {
   "codemirror_mode": {
    "name": "ipython",
    "version": 3
   },
   "file_extension": ".py",
   "mimetype": "text/x-python",
   "name": "python",
   "nbconvert_exporter": "python",
   "pygments_lexer": "ipython3",
   "version": "3.6.8"
  }
 },
 "nbformat": 4,
 "nbformat_minor": 2
}
