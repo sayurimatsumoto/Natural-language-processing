{
 "cells": [
  {
   "cell_type": "markdown",
   "metadata": {},
   "source": [
    "# <img src=\"assets/ufscar.png\" alt=\"Logo UFScar\" width=\"200\" align=\"left\"/><p><center>Universidade Federal de São Carlos (UFSCar)</center><br/><font size=\"4\"><center> Departamento de Computação, campus Sorocaba </center> </font>\n",
    "\n",
    "\n",
    "<font size=\"4\"><center><b>Disciplina: Aprendizado de Máquina</b></center></font>\n",
    "<font size=\"3\"><center>Prof. Dr. Tiago A. Almeida</center></font>\n",
    "</p>\n",
    "\n",
    "<br>\n",
    "<font size = \"4\"><center><b> Grupo 5: Análise de sentimento de reviews na Amazon </b></center></font>\n",
    "<br>"
   ]
  },
  {
   "cell_type": "markdown",
   "metadata": {},
   "source": [
    "# Naive Bayes Classifier"
   ]
  },
  {
   "cell_type": "code",
   "execution_count": null,
   "metadata": {},
   "outputs": [],
   "source": [
    "import matplotlib.pyplot as plt\n",
    "import numpy as np\n",
    "import pandas as pd\n",
    "import pre_processing as pp\n",
    "import analysis as anl\n",
    "import pca\n",
    "\n",
    "# Categoria da base de dados a ser lida (do disco) e processada\n",
    "# [books, kitchen_&_housewares, electronics, dvd, all]\n",
    "category = 'books'\n",
    "\n",
    "# Se positivo, adiciona bigramas para reviews negativas\n",
    "# ex: ('not', 'good') equivale a uma única feature\n",
    "hNeg = True\n",
    "\n",
    "# Se positivo, adiciona substantivos\n",
    "noun = False\n",
    "\n",
    "# Executa ou não o chi-quadrado na base\n",
    "flagChi2 = True\n",
    "\n",
    "# Guarda as features já pré processadas em X, a classe da amostra em Y e o vocabulário em vocabulary\n",
    "# hNeg e noun são opcionais, por padrão hNeg=True, noun=False\n",
    "X, Y, vocabulary = pp.bow(category, hNeg, noun)\n",
    "\n",
    "print(\"Vocabulário possui \" + str(len(vocabulary)) + \" palavras!\")"
   ]
  },
  {
   "cell_type": "markdown",
   "metadata": {},
   "source": [
    "#### Separa os dados em treinamento e teste:"
   ]
  },
  {
   "cell_type": "code",
   "execution_count": null,
   "metadata": {},
   "outputs": [],
   "source": [
    "# semente usada na randomizacao dos dados.\n",
    "randomSeed = 10 \n",
    "\n",
    "# gera os indices aleatorios que irao definir a ordem dos dados\n",
    "idx_perm = np.random.RandomState(randomSeed).permutation(range(len(Y)))\n",
    "\n",
    "# ordena os dados de acordo com os indices gerados aleatoriamente\n",
    "X2, Y2 = X[idx_perm, :], Y[idx_perm]\n",
    "\n",
    "# Porcentagem de amostras destinadas à base de treino\n",
    "pTrain = 0.8\n",
    "\n",
    "# Executa o holdout e retorna os índices de treino e teste, mantendo a proporção original entre as classes\n",
    "train_index, test_index = anl.stratified_holdOut(Y, pTrain)\n",
    "\n",
    "# Guarda as amostras de treino e teste\n",
    "Xtrain, Xval = X2[train_index, :], X2[test_index, :]\n",
    "Ytrain, Yval = Y2[train_index], Y2[test_index]"
   ]
  },
  {
   "cell_type": "markdown",
   "metadata": {},
   "source": [
    "#### Seleciona features com chi-quadrado (a partir dos dados de treinamento):"
   ]
  },
  {
   "cell_type": "code",
   "execution_count": null,
   "metadata": {},
   "outputs": [],
   "source": [
    "# Seta o valor de alpha para o chi-quadrado. \n",
    "# alpha é opcional, por padrão alpha = 0.05\n",
    "alpha = 0.05\n",
    "\n",
    "# Chama a funcao para executar o chi-quadrado e retorna a nova base de dados reduzida\n",
    "# o novo vocabulario e os indices das features mantidas\n",
    "if (flagChi2):\n",
    "    Xtrain, new_vocabulary, index = pp.chi2(Xtrain, Ytrain, vocabulary, alpha)\n",
    "    # Seleciona apenas as features do indice retornado pelo chi-quadrado para a base de teste\n",
    "    Xval = Xval[:, index]"
   ]
  },
  {
   "cell_type": "code",
   "execution_count": null,
   "metadata": {},
   "outputs": [],
   "source": [
    "if (flagChi2):\n",
    "    print(\"Número de features antes do chi-quadrado: \" + str(len(vocabulary)))\n",
    "    print(\"----------------------------------------\")\n",
    "    print(\"Número de features após chi-quadrado: \" + str(len(new_vocabulary)))\n",
    "    # print(new_vocabulary)"
   ]
  },
  {
   "cell_type": "markdown",
   "metadata": {},
   "source": [
    "#### Função auxiliar para calcular a probabilidade de ocorrência de cada feature em cada classe:"
   ]
  },
  {
   "cell_type": "code",
   "execution_count": null,
   "metadata": {},
   "outputs": [],
   "source": [
    "def calcularProbabilidades(X, Y):\n",
    "   \n",
    "    # Inicializa as variáveis de retorno, que guardarão a probabilidade das features ocorrerem em \n",
    "    # cada classe\n",
    "    pPos = np.zeros(X.shape[1])\n",
    "    pNeg = np.zeros(X.shape[1])\n",
    "\n",
    "    # Calcula a probabilidade de ocorrência de cada feature de cada amostra por classe\n",
    "    # e guarda nas variáveis de retorno\n",
    "    pPos = (X[(Y == 1)].sum(axis=0) + 1)/(sum(Y == 1) + X.shape[1])\n",
    "    pNeg = (X[(Y == 0)].sum(axis=0) + 1)/(sum(Y == 0) + X.shape[1])\n",
    "    \n",
    "    # Probabilidade de ocorrência de cada classe\n",
    "    probPos = sum(Y==1)/len(Y) \n",
    "    probNeg = sum(Y==0)/len(Y)\n",
    "    \n",
    "    return probPos, probNeg, pPos, pNeg"
   ]
  },
  {
   "cell_type": "code",
   "execution_count": null,
   "metadata": {},
   "outputs": [],
   "source": [
    "# Chama a função e guarda as probabilidades\n",
    "probP, probN, pPos, pNeg = calcularProbabilidades(Xtrain, Ytrain)"
   ]
  },
  {
   "cell_type": "markdown",
   "metadata": {},
   "source": [
    "#### Implementação da classificação do Naive Bayes:"
   ]
  },
  {
   "cell_type": "code",
   "execution_count": null,
   "metadata": {},
   "outputs": [],
   "source": [
    "def classificacao(x, probP, probN, pPos, pNeg):\n",
    "    # Inicializa variáveis auxiliares e de retorno\n",
    "    classe = 0;\n",
    "    probPos= 0;\n",
    "    probNeg = 0;\n",
    "\n",
    "    # Converte x de matriz sparsa para um array\n",
    "    x = x.toarray()\n",
    "    \n",
    "    # Calcula os produtórios das probabilidades de cada feature por classe \n",
    "    # multiplicado pela probabilidade de cada classe\n",
    "    probPos = probP * (pPos[(x != 0)]).prod() * (1 - pPos[(x == 0)]).prod()\n",
    "    probNeg = probN * (pNeg[(x != 0)]).prod() * (1 - pNeg[(x == 0)]).prod()\n",
    "    \n",
    "    # Retorna a classe com maior probabilidade\n",
    "    classe = int(probPos >= probNeg)\n",
    "\n",
    "    return classe"
   ]
  },
  {
   "cell_type": "markdown",
   "metadata": {},
   "source": [
    "#### Função auxiliar para predizer um conjunto de amostras:"
   ]
  },
  {
   "cell_type": "code",
   "execution_count": null,
   "metadata": {},
   "outputs": [],
   "source": [
    "# Dadas as probabilidades, faz a predição de um conjunto de amostras\n",
    "def predicao(Xval, Yval, probP, probN, pPos, pNeg):\n",
    "    \n",
    "    # Inicializa a variável de retorno, com as predições para cada amostra    \n",
    "    Ypred = []\n",
    "    \n",
    "    # Executa o classificador naive bayes para cada amostra e guarda em Ypred\n",
    "    for i in range(Xval.shape[0]):\n",
    "        y = classificacao(Xval[i], probP,probN,pPos,pNeg)\n",
    "        Ypred.append(y)\n",
    "\n",
    "    # Calcula a acurácia da predição para o conjunto Xval\n",
    "    acuracia = np.sum(Ypred==Yval)/len(Yval)\n",
    "    \n",
    "    return Ypred, acuracia"
   ]
  },
  {
   "cell_type": "markdown",
   "metadata": {},
   "source": [
    "#### Predição da base de teste do Holdout:"
   ]
  },
  {
   "cell_type": "code",
   "execution_count": null,
   "metadata": {},
   "outputs": [],
   "source": [
    "Ypred, acuracia = predicao(Xval, Yval, probP, probN, pPos, pNeg)\n",
    "print(\"Acurácia é \" + str(acuracia*100))\n",
    "\n",
    "# Guarda a quantidade de classes da base\n",
    "classes = np.unique(Y)\n",
    "\n",
    "auxResults = anl.relatorioDesempenho(Yval, Ypred, classes, imprimeRelatorio=True)"
   ]
  },
  {
   "cell_type": "markdown",
   "metadata": {},
   "source": [
    "## Curva de Aprendizado: "
   ]
  },
  {
   "cell_type": "code",
   "execution_count": null,
   "metadata": {},
   "outputs": [],
   "source": [
    "def curva_aprendizado(X, Y, Xval, Yval, num_iteracoes = 0):\n",
    "   \n",
    "    \"\"\"\n",
    "    Funcao usada gerar a curva de aprendizado.\n",
    "  \n",
    "    Parametros\n",
    "    ----------\n",
    "  \n",
    "    X : matriz com os dados de treinamento\n",
    "  \n",
    "    Y : vetor com as classes dos dados de treinamento\n",
    "  \n",
    "    Xval : matriz com os dados de validação\n",
    "  \n",
    "    Yval : vetor com as classes dos dados de validação\n",
    "    \n",
    "    num_iteracoes : escalar indicando a quantidade de iterações\n",
    "  \n",
    "    \"\"\"\n",
    "\n",
    "    # Define a quantidade de iteracoes, por padrão, itera por cada amostra da base de treino\n",
    "    if (num_iteracoes <= 0 or num_iteracoes > len (Y)):\n",
    "        num_iteracoes = len (Y)    \n",
    "    \n",
    "    # inicializa as listas que guardarao a performance no treinamento e na validacao\n",
    "    perf_train = []\n",
    "    perf_val = []\n",
    "\n",
    "    # Guarda a quantidade de classes da base\n",
    "    classes = np.unique(Y)\n",
    "    \n",
    "    \n",
    "    # Itera e executa o classificador naive bayes com i amostras da base de treino para cada iteracao\n",
    "    for i in range(10, len(Y), int (len(Y)/num_iteracoes)):\n",
    "        \n",
    "        probP, probN, pPos, pNeg = calcularProbabilidades(X[:i], Y[:i])\n",
    "        \n",
    "        Ypred, acuracia = predicao(X[:i], Y[:i], probP, probN, pPos, pNeg)\n",
    "        \n",
    "        # Guarda a acuracia da iteracao usando a base de treino como teste\n",
    "        perf_train.append(acuracia)\n",
    "\n",
    "        Ypred, acuracia = predicao(Xval, Yval, probP, probN, pPos, pNeg)\n",
    "        \n",
    "        # Guarda a acuracia da iteracao usando a base de validacao como teste\n",
    "        perf_val.append(acuracia)\n",
    "\n",
    "\n",
    "    ##################################################################################\n",
    "       \n",
    "    # Define o tamanho da figura \n",
    "    plt.figure(figsize=(20,12))\n",
    "\n",
    "    # Plota os dados\n",
    "    plt.plot(perf_train, color='blue', linestyle='-', linewidth=1.5, label='Treino') \n",
    "    plt.plot(perf_val, color='red', linestyle='-', linewidth=1.5, label='Validação')\n",
    "\n",
    "    # Define os nomes do eixo x e do eixo y\n",
    "    plt.xlabel(r'# Qtd. de dados de treinamento',fontsize='x-large') \n",
    "    plt.ylabel(r'Acuracia',fontsize='x-large') \n",
    "\n",
    "    # Define o título do gráfico\n",
    "    plt.title(r'Curva de aprendizado', fontsize='x-large')\n",
    "\n",
    "    # Acrescenta um grid no gráfico\n",
    "    plt.grid(axis='both')\n",
    "\n",
    "    # Plota a legenda\n",
    "    plt.legend()\n",
    "    \n",
    "    plt.show()"
   ]
  },
  {
   "cell_type": "code",
   "execution_count": null,
   "metadata": {},
   "outputs": [],
   "source": [
    "# num_iteracoes = numero de iterações da curva de aprendizado, por padrao e igual ao numero de amostras da base\n",
    "curva_aprendizado(Xtrain, Ytrain, Xval, Yval, num_iteracoes = 100)"
   ]
  },
  {
   "cell_type": "markdown",
   "metadata": {},
   "source": [
    "## K-Folds"
   ]
  },
  {
   "cell_type": "code",
   "execution_count": null,
   "metadata": {},
   "outputs": [],
   "source": [
    "import k_folds as kf\n",
    "\n",
    "# Guarda todos os tipos de classes \n",
    "classes = np.unique(Y)\n",
    "\n",
    "# Quantidade de Folds a ser executado\n",
    "nFolds = 5\n",
    "\n",
    "# Guarda os índices dos nFolds\n",
    "fold = kf.stratified_kfolds(Y, nFolds, classes)\n",
    "\n",
    "# Cria uma lista vazia para guardar os resultados obtidos em cada fold\n",
    "resultados = []\n",
    "\n",
    "# Apenas para controle das iteracoes\n",
    "k = 1\n",
    "\n",
    "for train_index, test_index  in fold :\n",
    "    \n",
    "    print('\\n-----------\\n%d-fold: \\n-----------\\n' % (k) )\n",
    "    \n",
    "    # Guarda as bases de treino e teste baseado nos índices de cada fold\n",
    "    Xtrain, Xval = X2[train_index,:], X2[test_index, :]\n",
    "    Ytrain, Yval = Y2[train_index], Y2[test_index]\n",
    "    \n",
    "    if (flagChi2):\n",
    "        # Executa o chi-quadrado na base do fold atual\n",
    "        Xtrain, new_vocabulary, index = pp.chi2(Xtrain, Ytrain, vocabulary)\n",
    "        Xval = Xval[:, index]\n",
    "    \n",
    "    # Execucao do Classificador Naive Bayes\n",
    "    probP, probN, pPos, pNeg = calcularProbabilidades(Xtrain, Ytrain)\n",
    "    result, acuracia = predicao(Xval, Yval, probP, probN, pPos, pNeg)\n",
    "\n",
    "    # Relatorio do fold\n",
    "    auxResults = anl.relatorioDesempenho(Yval,result, classes, imprimeRelatorio=True)\n",
    "    resultados.append( auxResults )\n",
    "    \n",
    "    # Incremento da variavel de controle\n",
    "    k += 1\n",
    "    \n",
    "kf.mediaFolds(resultados, classes)  "
   ]
  },
  {
   "cell_type": "code",
   "execution_count": null,
   "metadata": {},
   "outputs": [],
   "source": []
  }
 ],
 "metadata": {
  "kernelspec": {
   "display_name": "Python 3",
   "language": "python",
   "name": "python3"
  },
  "language_info": {
   "codemirror_mode": {
    "name": "ipython",
    "version": 3
   },
   "file_extension": ".py",
   "mimetype": "text/x-python",
   "name": "python",
   "nbconvert_exporter": "python",
   "pygments_lexer": "ipython3",
   "version": "3.6.7"
  }
 },
 "nbformat": 4,
 "nbformat_minor": 2
}
