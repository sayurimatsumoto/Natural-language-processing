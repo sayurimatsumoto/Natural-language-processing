{
 "cells": [
  {
   "cell_type": "code",
   "execution_count": 1,
   "metadata": {},
   "outputs": [],
   "source": [
    "import matplotlib.pyplot as plt\n",
    "import numpy as np\n",
    "import pandas as pd\n",
    "import pre_processing as pp\n",
    "import analysis as anl\n",
    "import pca\n",
    "import time\n",
    "\n",
    "category = 'all'\n",
    "\n",
    "hNeg = True #if true, add negative bigrams for negative reviews\n",
    "noun = True #if true, add nouns\n",
    "\n",
    "X, Y, vocabulary = pp.bow(category, hNeg, noun)"
   ]
  },
  {
   "cell_type": "code",
   "execution_count": 2,
   "metadata": {},
   "outputs": [],
   "source": [
    "X, new_vocabulary, index = pp.chi2(X, Y, vocabulary)\n",
    "\n",
    "X = X.toarray()"
   ]
  },
  {
   "cell_type": "code",
   "execution_count": 3,
   "metadata": {},
   "outputs": [],
   "source": [
    "def sigmoid(z):\n",
    "    \n",
    "    z = 1/(1+np.exp(-z))\n",
    "    \n",
    "    return z"
   ]
  },
  {
   "cell_type": "code",
   "execution_count": 4,
   "metadata": {},
   "outputs": [],
   "source": [
    "def sigmoidGradient(z):\n",
    "\n",
    "    g = np.zeros(z.shape)\n",
    "    g = sigmoid(z)*(1 - sigmoid(z))    \n",
    "\n",
    "    return g"
   ]
  },
  {
   "cell_type": "code",
   "execution_count": 5,
   "metadata": {},
   "outputs": [],
   "source": [
    "def gridSearch(X, Y ,Xval, Yval):\n",
    "    \n",
    "#     lambda_rnn = [0.01, 0.1, 10, 100]\n",
    "    \n",
    "#     bestLambda = lambda_rnn[0]\n",
    "#     bestAcc = 0\n",
    "    \n",
    "#     for l in lambda_rnn:\n",
    "#         Theta1, Theta2 = redes_neurais(Xtrain, Ytrain, l)\n",
    "#         Ypred, acuracia = predicao(Theta1, Theta2, Xval, Yval)\n",
    "#         if bestAcc < acuracia :\n",
    "#             bestLambda = l\n",
    "#             bestAcc = acuracia\n",
    "\n",
    "    bestLambda = 10\n",
    "            \n",
    "    return bestLambda"
   ]
  },
  {
   "cell_type": "code",
   "execution_count": 6,
   "metadata": {},
   "outputs": [],
   "source": [
    "import scipy.optimize\n",
    "\n",
    "def funcaoCusto_backp(nn_params, input_layer_size, hidden_layer_size, num_labels, X, y, flagreg = False,lambda_reg = 1):\n",
    "    \n",
    "    # Extrai os parametros de nn_params e alimenta as variaveis Theta1 e Theta2.\n",
    "    Theta1 = np.reshape( nn_params[0:hidden_layer_size*(input_layer_size + 1)], (hidden_layer_size, input_layer_size+1) )\n",
    "    Theta2 = np.reshape( nn_params[ hidden_layer_size*(input_layer_size + 1):], (num_labels, hidden_layer_size+1) )\n",
    "\n",
    "    # Qtde de amostras\n",
    "    m = X.shape[0]\n",
    "         \n",
    "    #Custo\n",
    "    J = 0\n",
    "    \n",
    "    #Theta das redes neurais\n",
    "    Theta1_grad = np.zeros(Theta1.shape)\n",
    "    Theta2_grad = np.zeros(Theta2.shape)\n",
    "    \n",
    "    eps = 1e-15\n",
    "\n",
    "    \n",
    "    rotulos = np.zeros((len(y), num_labels), dtype=int) \n",
    "    for i in range(len(rotulos)):\n",
    "        rotulos[i][y[i]] = 1\n",
    "\n",
    "    a1 = np.insert(X, 0, np.ones(m, dtype=int), axis=1)\n",
    "    z2 = np.dot(a1, Theta1.T)\n",
    "    a2 = sigmoid(z2)\n",
    "    a2 = np.insert(a2, 0, np.ones(a2.shape[0], dtype=int), axis=1)\n",
    "    z3 = np.dot(a2, Theta2.T)\n",
    "    a3 = sigmoid(z3)\n",
    "    \n",
    "    \n",
    "    delta3 = a3 - rotulos\n",
    "    delta2 = np.dot(delta3, Theta2[:, 1:]) * sigmoidGradient(z2)\n",
    "\n",
    "    if flagreg == True :\n",
    "        reg = (lambda_reg/(2*m))*(np.sum(Theta1[:, 1:] ** 2) + np.sum(Theta2[:, 1:] ** 2)) \n",
    "\n",
    "        J += reg\n",
    "    \n",
    "        delta3 = a3 - rotulos\n",
    "        delta2 = np.dot(delta3, Theta2[:, 1:]) * sigmoidGradient(z2)\n",
    "\n",
    "        Theta1_grad[:, 0] = (np.dot(delta2.T, a1)[:, 0]/m) \n",
    "        Theta1_grad[:, 1:] = (np.dot(delta2.T, a1)[:, 1:]/m) + (lambda_reg/m)*Theta1[:, 1:]\n",
    "\n",
    "        Theta2_grad[:, 0] = (np.dot(delta3.T, a2)[:, 0]/m) \n",
    "        Theta2_grad[:, 1:] = (np.dot(delta3.T, a2)[:, 1:]/m) + (lambda_reg/m)*Theta2[:, 1:]\n",
    "    \n",
    "    else:    \n",
    "        Theta1_grad = np.dot(delta2.T, a1)/m\n",
    "        Theta2_grad = np.dot(delta3.T, a2)/m\n",
    "     \n",
    "    J = np.sum(-rotulos*np.log(a3+eps) - (1 - rotulos)*np.log(1 - a3+eps))/m\n",
    "\n",
    "    grad = np.concatenate([np.ravel(Theta1_grad), np.ravel(Theta2_grad)])\n",
    "\n",
    "    return J, grad"
   ]
  },
  {
   "cell_type": "code",
   "execution_count": 7,
   "metadata": {},
   "outputs": [],
   "source": [
    "def redes_neurais (Xtrain, Ytrain, lambda_rnn):\n",
    "\n",
    "    input_layer_size  = Xtrain.shape[1]  # 20x20 dimensao das imagens de entrada\n",
    "    hidden_layer_size = 25   \n",
    "    num_labels = 2          # 10 rotulos, de 1 a 10  \n",
    "                         #  (observe que a classe \"0\" recebe o rotulo 10)\n",
    "    epsilon_init = 0.12\n",
    "    \n",
    "    # carregando os pesos da camada 1\n",
    "    Theta1 =  np.random.RandomState(10).rand(hidden_layer_size, 1 + input_layer_size) * 2 * epsilon_init - epsilon_init\n",
    "    \n",
    "    # carregando os pesos da camada 2\n",
    "    Theta2 = np.random.RandomState(10).rand(num_labels, 1 + hidden_layer_size) * 2 * epsilon_init - epsilon_init\n",
    "    \n",
    "    # concatena os pesos em um único vetor\n",
    "    initial_rna_params = np.concatenate([np.ravel(Theta1), np.ravel(Theta2)])\n",
    "    \n",
    "    MaxIter = 5000\n",
    "    \n",
    "    #lamba_reg = 1\n",
    "    \n",
    "    # Minimiza a funcao de custo\n",
    "    result = scipy.optimize.minimize(fun=funcaoCusto_backp, x0=initial_rna_params, args=(input_layer_size, hidden_layer_size, num_labels, Xtrain, Ytrain,True,lambda_rnn),  \n",
    "                    method='TNC', jac=True, options={'maxiter': MaxIter})\n",
    "    \n",
    "    # Coleta os pesos retornados pela função de minimização\n",
    "    nn_params = result.x\n",
    "    \n",
    "    # Obtem Theta1 e Theta2 back a partir de rna_params\n",
    "    Theta1 = np.reshape( nn_params[0:hidden_layer_size*(input_layer_size + 1)], (hidden_layer_size, input_layer_size+1) )\n",
    "    Theta2 = np.reshape( nn_params[ hidden_layer_size*(input_layer_size + 1):], (num_labels, hidden_layer_size+1) )\n",
    "    \n",
    "    return Theta1, Theta2"
   ]
  },
  {
   "cell_type": "code",
   "execution_count": null,
   "metadata": {},
   "outputs": [],
   "source": [
    "def predicao(Theta1, Theta2, Xval, Yval):\n",
    "\n",
    "    m = Xval.shape[0] # número de amostras\n",
    "    num_labels = Theta2.shape[0]\n",
    "    \n",
    "    p = np.zeros(m)\n",
    "\n",
    "    a1 = np.hstack( [np.ones([m,1]), Xval] )\n",
    "    h1 = sigmoid( np.dot(a1, Theta1.T) )\n",
    "\n",
    "    a2 = np.hstack( [np.ones([m,1]), h1] ) \n",
    "    h2 = sigmoid( np.dot(a2,Theta2.T) )\n",
    "    \n",
    "    Ypred = np.argmax(h2,axis=1)\n",
    "    \n",
    "    acuracia = np.sum(Ypred==Yval)/len(Yval) \n",
    "        \n",
    "    return Ypred, acuracia"
   ]
  },
  {
   "cell_type": "code",
   "execution_count": null,
   "metadata": {},
   "outputs": [],
   "source": [
    "lambda_rnn = gridSearch(X, Y, X, Y)\n",
    "start_train = time.time()\n",
    "Theta1, Theta2 = redes_neurais(X, Y, lambda_rnn)\n",
    "end_train = time.time()\n",
    "print(\"Tempo de treinamento é :\" + str(end_train-start_train))"
   ]
  },
  {
   "cell_type": "code",
   "execution_count": null,
   "metadata": {},
   "outputs": [],
   "source": [
    "with open('app/data/' + category + '/vocabulary.txt', 'w') as out_file:\n",
    "    for word in new_vocabulary:\n",
    "        if isinstance(word, tuple):\n",
    "            s = '('+word[0]+\",\"+word[1]+')'+'\\n'\n",
    "            out_file.write(s)\n",
    "        else:\n",
    "            out_file.write(word+'\\n')"
   ]
  },
  {
   "cell_type": "code",
   "execution_count": null,
   "metadata": {},
   "outputs": [],
   "source": [
    "np.save('app/data/' + category + '/Theta1', Theta1)\n",
    "np.save('app/data/' + category + '/Theta2', Theta2)"
   ]
  },
  {
   "cell_type": "code",
   "execution_count": null,
   "metadata": {},
   "outputs": [],
   "source": [
    "Ypred, acuracia = predicao(Theta1, Theta2, X, Y)\n",
    "print(acuracia)"
   ]
  },
  {
   "cell_type": "code",
   "execution_count": null,
   "metadata": {},
   "outputs": [],
   "source": []
  }
 ],
 "metadata": {
  "kernelspec": {
   "display_name": "Python 3",
   "language": "python",
   "name": "python3"
  },
  "language_info": {
   "codemirror_mode": {
    "name": "ipython",
    "version": 3
   },
   "file_extension": ".py",
   "mimetype": "text/x-python",
   "name": "python",
   "nbconvert_exporter": "python",
   "pygments_lexer": "ipython3",
   "version": "3.6.8"
  }
 },
 "nbformat": 4,
 "nbformat_minor": 2
}
